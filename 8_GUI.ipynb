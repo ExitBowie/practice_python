{
 "cells": [
  {
   "cell_type": "code",
   "execution_count": 1,
   "metadata": {},
   "outputs": [
    {
     "name": "stdout",
     "output_type": "stream",
     "text": [
      "Hello World!\n"
     ]
    }
   ],
   "source": [
    "# ボタン\n",
    "import Tkinter as tk\n",
    "\n",
    "root = tk.Tk()\n",
    "\n",
    "def button_bushed():\n",
    "    print \"Hello World!\"\n",
    "\n",
    "tk.Button(root, text='push!', command=button_bushed).pack()\n",
    "root.mainloop()"
   ]
  },
  {
   "cell_type": "code",
   "execution_count": 2,
   "metadata": {},
   "outputs": [],
   "source": [
    "# 文字列の表示\n",
    "import Tkinter as tk\n",
    "\n",
    "root = tk.Tk()\n",
    "\n",
    "txt = tk.StringVar()\n",
    "def button_bushed():\n",
    "    txt.set(\"Hello World!\" )\n",
    "\n",
    "tk.Button(root, text='push!', command=button_bushed).pack()\n",
    "tk.Entry(root , textvariable=txt ).pack()\n",
    "\n",
    "root.mainloop()"
   ]
  },
  {
   "cell_type": "code",
   "execution_count": 3,
   "metadata": {},
   "outputs": [
    {
     "name": "stdout",
     "output_type": "stream",
     "text": [
      "aaaa\n",
      "aaaa\n"
     ]
    }
   ],
   "source": [
    "# 文字列の入力\n",
    "import Tkinter as tk\n",
    "\n",
    "root = tk.Tk()\n",
    "\n",
    "txt = tk.StringVar()\n",
    "def button_bushed():\n",
    "    a = txt.get()\n",
    "    print a\n",
    "\n",
    "tk.Button(root, text='push!', command=button_bushed).pack()\n",
    "tk.Entry(root , textvariable=txt ).pack()\n",
    "\n",
    "root.mainloop()"
   ]
  },
  {
   "cell_type": "code",
   "execution_count": 4,
   "metadata": {},
   "outputs": [
    {
     "name": "stdout",
     "output_type": "stream",
     "text": [
      "29\n",
      "51\n"
     ]
    }
   ],
   "source": [
    "# スライダーから値の取得\n",
    "import Tkinter as tk\n",
    "\n",
    "root = tk.Tk()\n",
    "\n",
    "def button_bushed():\n",
    "    print s.get()\n",
    "\n",
    "tk.Button(root, text='push!', command=button_bushed).pack()\n",
    "s = tk.Scale(root , from_=0, to=100,  orient=\"h\" )\n",
    "s.pack()\n",
    "\n",
    "root.mainloop()"
   ]
  },
  {
   "cell_type": "code",
   "execution_count": 5,
   "metadata": {},
   "outputs": [
    {
     "name": "stdout",
     "output_type": "stream",
     "text": [
      "Your selection is 1\n",
      "Your selection is 0\n"
     ]
    }
   ],
   "source": [
    "# チェックボックスから選択された値の取得\n",
    "import Tkinter as tk\n",
    "\n",
    "root = tk.Tk()\n",
    "\n",
    "def button_bushed():\n",
    "    print \"Your selection is\", selection.get()\n",
    "\n",
    "tk.Button(root, text='push!', command=button_bushed).pack()\n",
    "\n",
    "selection = tk.IntVar()\n",
    "tk.Radiobutton( root, text=\"aaaa\", variable=selection, value=0 ).pack()\n",
    "tk.Radiobutton( root, text=\"bbbb\", variable=selection, value=1 ).pack()\n",
    "\n",
    "root.mainloop()"
   ]
  },
  {
   "cell_type": "code",
   "execution_count": 6,
   "metadata": {},
   "outputs": [
    {
     "name": "stdout",
     "output_type": "stream",
     "text": [
      "Your selection is ccc\n",
      "Your selection is aaa\n"
     ]
    }
   ],
   "source": [
    "# リストボックスから選択された値の取得\n",
    "import Tkinter as tk\n",
    "\n",
    "root = tk.Tk()\n",
    "\n",
    "def button_bushed():\n",
    "    i = lb.curselection()[0]\n",
    "    print \"Your selection is\", selection[i]\n",
    "\n",
    "tk.Button(root, text='push!', command=button_bushed).pack()\n",
    "\n",
    "lb = tk.Listbox(root)\n",
    "lb.pack()\n",
    "\n",
    "selection = [\"aaa\", \"bbb\", \"ccc\"]\n",
    "for s in selection:\n",
    "    lb.insert(-1, s)\n",
    "\n",
    "root.mainloop()"
   ]
  },
  {
   "cell_type": "code",
   "execution_count": null,
   "metadata": {
    "collapsed": true
   },
   "outputs": [],
   "source": []
  }
 ],
 "metadata": {
  "kernelspec": {
   "display_name": "Python 2",
   "language": "python",
   "name": "python2"
  },
  "language_info": {
   "codemirror_mode": {
    "name": "ipython",
    "version": 2
   },
   "file_extension": ".py",
   "mimetype": "text/x-python",
   "name": "python",
   "nbconvert_exporter": "python",
   "pygments_lexer": "ipython2",
   "version": "2.7.13"
  }
 },
 "nbformat": 4,
 "nbformat_minor": 2
}
