{
 "cells": [
  {
   "cell_type": "code",
   "execution_count": 2,
   "metadata": {},
   "outputs": [
    {
     "name": "stdout",
     "output_type": "stream",
     "text": [
      "Hello World!\n",
      "Hello World!\n"
     ]
    }
   ],
   "source": [
    "# ボタンを押したらHello World!と表示しなさい\n",
    "import Tkinter as tk\n",
    "\n",
    "root = tk.Tk()\n",
    "\n",
    "def button_bushed():\n",
    "    print \"Hello World!\"\n",
    "\n",
    "tk.Button(root, text='push!', command=button_bushed).pack()\n",
    "root.mainloop()"
   ]
  },
  {
   "cell_type": "code",
   "execution_count": 1,
   "metadata": {},
   "outputs": [],
   "source": [
    "# 文字列をedit boxに表示しなさい\n",
    "import Tkinter as tk\n",
    "\n",
    "root = tk.Tk()\n",
    "\n",
    "txt = tk.StringVar()\n",
    "def button_bushed():\n",
    "    txt.set(\"Hello World!\" )\n",
    "\n",
    "tk.Button(root, text='push!', command=button_bushed).pack()\n",
    "tk.Entry(root , textvariable=txt ).pack()\n",
    "\n",
    "root.mainloop()"
   ]
  },
  {
   "cell_type": "code",
   "execution_count": 2,
   "metadata": {},
   "outputs": [
    {
     "name": "stdout",
     "output_type": "stream",
     "text": [
      "aaaa\n"
     ]
    }
   ],
   "source": [
    "# 入力された文字列をedit boxから取得しなさい\n",
    "import Tkinter as tk\n",
    "\n",
    "root = tk.Tk()\n",
    "\n",
    "txt = tk.StringVar()\n",
    "def button_bushed():\n",
    "    a = txt.get()\n",
    "    print a\n",
    "\n",
    "tk.Button(root, text='push!', command=button_bushed).pack()\n",
    "tk.Entry(root , textvariable=txt ).pack()\n",
    "\n",
    "root.mainloop()"
   ]
  },
  {
   "cell_type": "code",
   "execution_count": 10,
   "metadata": {},
   "outputs": [
    {
     "name": "stdout",
     "output_type": "stream",
     "text": [
      "21\n",
      "44\n"
     ]
    }
   ],
   "source": [
    "# スライダーから値を取得しなさい\n",
    "import Tkinter as tk\n",
    "\n",
    "root = tk.Tk()\n",
    "\n",
    "def button_bushed():\n",
    "    print s.get()\n",
    "\n",
    "tk.Button(root, text='push!', command=button_bushed).pack()\n",
    "s = tk.Scale(root , from_=0, to=100,  orient=\"h\" )\n",
    "s.pack()\n",
    "\n",
    "root.mainloop()"
   ]
  },
  {
   "cell_type": "code",
   "execution_count": 14,
   "metadata": {},
   "outputs": [
    {
     "name": "stdout",
     "output_type": "stream",
     "text": [
      "Your selection is 0\n",
      "Your selection is 0\n"
     ]
    }
   ],
   "source": [
    "# チェックボックスから選択された値を取得しなさい\n",
    "import Tkinter as tk\n",
    "\n",
    "root = tk.Tk()\n",
    "\n",
    "def button_bushed():\n",
    "    print \"Your selection is\", selection.get()\n",
    "\n",
    "tk.Button(root, text='push!', command=button_bushed).pack()\n",
    "\n",
    "selection = tk.IntVar()\n",
    "tk.Radiobutton( root, text=\"aaaa\", variable=selection, value=0 ).pack()\n",
    "tk.Radiobutton( root, text=\"bbbb\", variable=selection, value=1 ).pack()\n",
    "\n",
    "root.mainloop()"
   ]
  },
  {
   "cell_type": "code",
   "execution_count": null,
   "metadata": {
    "collapsed": true
   },
   "outputs": [],
   "source": []
  }
 ],
 "metadata": {
  "kernelspec": {
   "display_name": "Python 2",
   "language": "python",
   "name": "python2"
  },
  "language_info": {
   "codemirror_mode": {
    "name": "ipython",
    "version": 2
   },
   "file_extension": ".py",
   "mimetype": "text/x-python",
   "name": "python",
   "nbconvert_exporter": "python",
   "pygments_lexer": "ipython2",
   "version": "2.7.13"
  }
 },
 "nbformat": 4,
 "nbformat_minor": 2
}
