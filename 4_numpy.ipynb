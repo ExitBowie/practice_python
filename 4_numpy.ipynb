{
 "cells": [
  {
   "cell_type": "markdown",
   "metadata": {},
   "source": [
    "# 行列\n",
    "array型を使うとlistでは使えない様々な機能を利用することができます．ただし，listとは挙動が変わっている関数もあるので注意が必要です．"
   ]
  },
  {
   "cell_type": "code",
   "execution_count": 1,
   "metadata": {},
   "outputs": [
    {
     "name": "stdout",
     "output_type": "stream",
     "text": [
      "[1 2 3]\n"
     ]
    }
   ],
   "source": [
    "# リストからarrayを作りなさい\n",
    "import numpy as np\n",
    "a = np.array([1,2,3])\n",
    "\n",
    "print a"
   ]
  },
  {
   "cell_type": "code",
   "execution_count": 2,
   "metadata": {},
   "outputs": [
    {
     "name": "stdout",
     "output_type": "stream",
     "text": [
      "[[1 2 3]\n",
      " [4 5 6]\n",
      " [7 8 9]]\n"
     ]
    }
   ],
   "source": [
    "# リストから二次元arrayを作りなさい\n",
    "import numpy as np\n",
    "a = np.array(\n",
    "    [[1,2,3],\n",
    "     [4,5,6],\n",
    "     [7,8,9]])\n",
    "\n",
    "print a"
   ]
  },
  {
   "cell_type": "code",
   "execution_count": 3,
   "metadata": {},
   "outputs": [
    {
     "name": "stdout",
     "output_type": "stream",
     "text": [
      "[0 1 2 3 4 5 6 7 8]\n"
     ]
    }
   ],
   "source": [
    "# 0～9の要素を持った一次元arrayを作りなさい\n",
    "import numpy as np\n",
    "a = np.arange(9)\n",
    "\n",
    "print a"
   ]
  },
  {
   "cell_type": "code",
   "execution_count": 4,
   "metadata": {},
   "outputs": [
    {
     "name": "stdout",
     "output_type": "stream",
     "text": [
      "[[0 1 2]\n",
      " [3 4 5]\n",
      " [6 7 8]]\n"
     ]
    }
   ],
   "source": [
    "# 0～9の要素を持った一次元arrayを3×3の二次元arrayに変換しなさい\n",
    "import numpy as np\n",
    "a = np.arange(9)\n",
    "b = a.reshape( (3,3) )\n",
    "\n",
    "print b"
   ]
  },
  {
   "cell_type": "code",
   "execution_count": 5,
   "metadata": {},
   "outputs": [
    {
     "name": "stdout",
     "output_type": "stream",
     "text": [
      "[0 1 2 3 4 5 6 7 8]\n"
     ]
    }
   ],
   "source": [
    "# 二次元arrayの要素を一列（１次元）に並べなさい\n",
    "import numpy as np\n",
    "a = np.arange(9).reshape( (3,3) )\n",
    "b = a.flatten()\n",
    "\n",
    "print b"
   ]
  },
  {
   "cell_type": "code",
   "execution_count": 6,
   "metadata": {},
   "outputs": [
    {
     "name": "stdout",
     "output_type": "stream",
     "text": [
      "[[100 101 102]\n",
      " [103 104 105]\n",
      " [106 107 108]]\n"
     ]
    }
   ],
   "source": [
    "# arrayの要素に定数を足しなさい\n",
    "import numpy as np\n",
    "a = np.arange(9)\n",
    "a = a.reshape( (3,3) )\n",
    "\n",
    "b = a + 100 \n",
    "\n",
    "print b"
   ]
  },
  {
   "cell_type": "code",
   "execution_count": 7,
   "metadata": {},
   "outputs": [
    {
     "name": "stdout",
     "output_type": "stream",
     "text": [
      "[[0 1 2]\n",
      " [3 4 5]\n",
      " [6 7 8]]\n",
      "+\n",
      "[[100 101 102]\n",
      " [103 104 105]\n",
      " [106 107 108]]\n",
      "=\n",
      "[[100 102 104]\n",
      " [106 108 110]\n",
      " [112 114 116]]\n"
     ]
    }
   ],
   "source": [
    "# 2つのarrayの要素を足し合わせなさい\n",
    "import numpy as np\n",
    "a = np.arange(9)\n",
    "a = a.reshape( (3,3) )\n",
    "\n",
    "b = np.arange(100,109)\n",
    "b = b.reshape( (3,3) )\n",
    "\n",
    "c = a + b\n",
    "\n",
    "print a\n",
    "print \"+\"\n",
    "print b\n",
    "print \"=\"\n",
    "print c"
   ]
  },
  {
   "cell_type": "code",
   "execution_count": 8,
   "metadata": {
    "collapsed": true
   },
   "outputs": [],
   "source": [
    "# arrayをテキストで保存しなさい\n",
    "import numpy as np\n",
    "a = np.arange(9).reshape( (3,3) )\n",
    "\n",
    "np.savetxt(\"test.txt\", a)"
   ]
  },
  {
   "cell_type": "code",
   "execution_count": 9,
   "metadata": {},
   "outputs": [
    {
     "name": "stdout",
     "output_type": "stream",
     "text": [
      "[[ 0.  1.  2.]\n",
      " [ 3.  4.  5.]\n",
      " [ 6.  7.  8.]]\n"
     ]
    }
   ],
   "source": [
    "# 保存したarrayを読み込んで表示しなさい\n",
    "import numpy as np\n",
    "a = np.loadtxt(\"test.txt\")\n",
    "\n",
    "print a"
   ]
  },
  {
   "cell_type": "code",
   "execution_count": 10,
   "metadata": {},
   "outputs": [
    {
     "name": "stdout",
     "output_type": "stream",
     "text": [
      "[[0 1 2]\n",
      " [3 4 5]\n",
      " [6 7 8]]\n",
      "----\n",
      "rows:  [ 3 12 21]\n",
      "cols:  [ 9 12 15]\n",
      "total:  36\n"
     ]
    }
   ],
   "source": [
    "# arrayの行方向の合計，列方向の合計，全ての要素の合計を計算しなさい\n",
    "import numpy as np\n",
    "a = np.arange(9).reshape( (3,3) )\n",
    "\n",
    "print a\n",
    "print \"----\"\n",
    "print \"rows: \", np.sum(a, 1)\n",
    "print \"cols: \", np.sum(a, 0)\n",
    "print \"total: \", np.sum(a)"
   ]
  },
  {
   "cell_type": "code",
   "execution_count": 11,
   "metadata": {},
   "outputs": [
    {
     "name": "stdout",
     "output_type": "stream",
     "text": [
      "[[0 1 2]\n",
      " [3 4 5]\n",
      " [6 7 8]]\n",
      "----\n",
      "rows:  [ 1.  4.  7.]\n",
      "cols:  [ 3.  4.  5.]\n",
      "total:  4.0\n"
     ]
    }
   ],
   "source": [
    "# arrayの行方向の平均，列方向の平均，全ての要素の平均を計算しなさい\n",
    "import numpy as np\n",
    "a = np.arange(9).reshape( (3,3) )\n",
    "\n",
    "print a\n",
    "print \"----\"\n",
    "print \"rows: \", np.mean(a, 1)\n",
    "print \"cols: \", np.mean(a, 0)\n",
    "print \"total: \", np.mean(a)"
   ]
  },
  {
   "cell_type": "code",
   "execution_count": 12,
   "metadata": {},
   "outputs": [
    {
     "name": "stdout",
     "output_type": "stream",
     "text": [
      "[[29 30 31]\n",
      " [38 39 40]\n",
      " [47 48 49]\n",
      " [56 57 58]]\n"
     ]
    }
   ],
   "source": [
    "# arrayの一部を取り出しなさい\n",
    "import numpy as np\n",
    "a = np.arange(81).reshape( (9,9) )\n",
    "b = a[3:7,2:5]\n",
    "\n",
    "print b"
   ]
  },
  {
   "cell_type": "code",
   "execution_count": 13,
   "metadata": {},
   "outputs": [
    {
     "name": "stdout",
     "output_type": "stream",
     "text": [
      "- sin\n",
      "[[ 0.09983342  0.89120736  0.86320937]\n",
      " [ 0.04158066 -0.81827711 -0.92581468]\n",
      " [-0.1821625   0.72896904  0.96988981]]\n",
      "- cos\n",
      "[[ 0.99500417  0.45359612 -0.5048461 ]\n",
      " [-0.99913515 -0.57482395  0.37797774]\n",
      " [ 0.98326844  0.68454667 -0.24354415]]\n",
      "- log\n",
      "[[-2.30258509  0.09531018  0.74193734]\n",
      " [ 1.13140211  1.41098697  1.62924054]\n",
      " [ 1.80828877  1.96009478  2.09186406]]\n",
      "- exp\n",
      "[[  1.10517092e+00   3.00416602e+00   8.16616991e+00]\n",
      " [  2.21979513e+01   6.03402876e+01   1.64021907e+02]\n",
      " [  4.45857770e+02   1.21196707e+03   3.29446808e+03]]\n"
     ]
    }
   ],
   "source": [
    "# arrayの各要素に対して，sin, con, log, expを一括で計算しなさい\n",
    "import numpy as np\n",
    "a = np.arange(9).reshape( (3,3) )+0.1\n",
    "\n",
    "print \"- sin\"\n",
    "print np.sin(a)\n",
    "print \"- cos\"\n",
    "print np.cos(a)\n",
    "print \"- log\"\n",
    "print np.log(a)\n",
    "print \"- exp\"\n",
    "print np.exp(a)"
   ]
  },
  {
   "cell_type": "code",
   "execution_count": null,
   "metadata": {
    "collapsed": true
   },
   "outputs": [],
   "source": []
  }
 ],
 "metadata": {
  "kernelspec": {
   "display_name": "Python 2",
   "language": "python",
   "name": "python2"
  },
  "language_info": {
   "codemirror_mode": {
    "name": "ipython",
    "version": 2
   },
   "file_extension": ".py",
   "mimetype": "text/x-python",
   "name": "python",
   "nbconvert_exporter": "python",
   "pygments_lexer": "ipython2",
   "version": "2.7.13"
  }
 },
 "nbformat": 4,
 "nbformat_minor": 1
}
