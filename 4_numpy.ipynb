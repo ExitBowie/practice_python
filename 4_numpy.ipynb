{
 "cells": [
  {
   "cell_type": "markdown",
   "metadata": {},
   "source": [
    "# 行列\n",
    "array型を使うとlistでは使えない様々な機能を利用することができます．ただし，listとは挙動が変わっている関数もあるので注意が必要です．"
   ]
  },
  {
   "cell_type": "code",
   "execution_count": 1,
   "metadata": {},
   "outputs": [
    {
     "name": "stdout",
     "output_type": "stream",
     "text": [
      "[1 2 3]\n"
     ]
    }
   ],
   "source": [
    "# リストからarrayを生成\n",
    "import numpy as np\n",
    "a = np.array([1,2,3])\n",
    "\n",
    "print( a )"
   ]
  },
  {
   "cell_type": "code",
   "execution_count": 2,
   "metadata": {},
   "outputs": [
    {
     "name": "stdout",
     "output_type": "stream",
     "text": [
      "[[1 2 3]\n",
      " [4 5 6]\n",
      " [7 8 9]]\n"
     ]
    }
   ],
   "source": [
    "# リストから二次元arrayを生成\n",
    "import numpy as np\n",
    "a = np.array(\n",
    "    [[1,2,3],\n",
    "     [4,5,6],\n",
    "     [7,8,9]])\n",
    "\n",
    "print( a )"
   ]
  },
  {
   "cell_type": "code",
   "execution_count": 3,
   "metadata": {},
   "outputs": [
    {
     "name": "stdout",
     "output_type": "stream",
     "text": [
      "[0 1 2 3 4 5 6 7 8]\n"
     ]
    }
   ],
   "source": [
    "# 0～9の要素を持った一次元arrayの生成\n",
    "import numpy as np\n",
    "a = np.arange(9)\n",
    "\n",
    "print( a )"
   ]
  },
  {
   "cell_type": "code",
   "execution_count": 4,
   "metadata": {},
   "outputs": [
    {
     "name": "stdout",
     "output_type": "stream",
     "text": [
      "[[0 1 2]\n",
      " [3 4 5]\n",
      " [6 7 8]]\n"
     ]
    }
   ],
   "source": [
    "# 0～9の要素を持った一次元arrayを3×3の二次元arrayに変換\n",
    "import numpy as np\n",
    "a = np.arange(9)\n",
    "b = a.reshape( (3,3) )\n",
    "\n",
    "print( b )"
   ]
  },
  {
   "cell_type": "code",
   "execution_count": 5,
   "metadata": {},
   "outputs": [
    {
     "name": "stdout",
     "output_type": "stream",
     "text": [
      "[0 1 2 3 4 5 6 7 8]\n"
     ]
    }
   ],
   "source": [
    "# 二次元arrayの要素を一列（１次元）に並べる\n",
    "import numpy as np\n",
    "a = np.arange(9).reshape( (3,3) )\n",
    "b = a.flatten()\n",
    "\n",
    "print( b )"
   ]
  },
  {
   "cell_type": "code",
   "execution_count": 6,
   "metadata": {},
   "outputs": [
    {
     "name": "stdout",
     "output_type": "stream",
     "text": [
      "[[100 101 102]\n",
      " [103 104 105]\n",
      " [106 107 108]]\n"
     ]
    }
   ],
   "source": [
    "# arrayの要素に定数を足す\n",
    "import numpy as np\n",
    "a = np.arange(9)\n",
    "a = a.reshape( (3,3) )\n",
    "\n",
    "b = a + 100 \n",
    "\n",
    "print( b )"
   ]
  },
  {
   "cell_type": "code",
   "execution_count": 7,
   "metadata": {},
   "outputs": [
    {
     "name": "stdout",
     "output_type": "stream",
     "text": [
      "[[0 1 2]\n",
      " [3 4 5]\n",
      " [6 7 8]]\n",
      "+\n",
      "[[100 101 102]\n",
      " [103 104 105]\n",
      " [106 107 108]]\n",
      "=\n",
      "[[100 102 104]\n",
      " [106 108 110]\n",
      " [112 114 116]]\n"
     ]
    }
   ],
   "source": [
    "# 2つのarrayの要素同士の足し算\n",
    "import numpy as np\n",
    "a = np.arange(9)\n",
    "a = a.reshape( (3,3) )\n",
    "\n",
    "b = np.arange(100,109)\n",
    "b = b.reshape( (3,3) )\n",
    "\n",
    "c = a + b\n",
    "\n",
    "print( a )\n",
    "print( \"+\" )\n",
    "print( b )\n",
    "print( \"=\" )\n",
    "print( c )"
   ]
  },
  {
   "cell_type": "code",
   "execution_count": 8,
   "metadata": {},
   "outputs": [
    {
     "name": "stdout",
     "output_type": "stream",
     "text": [
      "[[0 1 2]\n",
      " [3 4 5]\n",
      " [6 7 8]]\n",
      "*\n",
      "[[100 101 102]\n",
      " [103 104 105]\n",
      " [106 107 108]]\n",
      "=\n",
      "[[  0 101 204]\n",
      " [309 416 525]\n",
      " [636 749 864]]\n"
     ]
    }
   ],
   "source": [
    "# 2つのarrayの要素同士の掛け算（アダマール積）\n",
    "import numpy as np\n",
    "a = np.arange(9)\n",
    "a = a.reshape( (3,3) )\n",
    "\n",
    "b = np.arange(100,109)\n",
    "b = b.reshape( (3,3) )\n",
    "\n",
    "c = a * b\n",
    "\n",
    "print( a )\n",
    "print( \"*\" )\n",
    "print( b )\n",
    "print( \"=\" )\n",
    "print( c )"
   ]
  },
  {
   "cell_type": "code",
   "execution_count": 9,
   "metadata": {},
   "outputs": [
    {
     "name": "stdout",
     "output_type": "stream",
     "text": [
      "[[0]\n",
      " [1]\n",
      " [2]]\n",
      "*\n",
      "[[100 101 102]]\n",
      "=\n",
      "[[  0   0   0]\n",
      " [100 101 102]\n",
      " [200 202 204]]\n"
     ]
    }
   ],
   "source": [
    "# 2つのarrayの行列の掛け算\n",
    "import numpy as np\n",
    "a = np.arange(3)\n",
    "a = a.reshape( (3,1) )\n",
    "\n",
    "b = np.arange(100,103)\n",
    "b = b.reshape( (1,3) )\n",
    "\n",
    "c = a * b\n",
    "\n",
    "print( a )\n",
    "print( \"*\" )\n",
    "print( b )\n",
    "print( \"=\" )\n",
    "print( c )"
   ]
  },
  {
   "cell_type": "code",
   "execution_count": 12,
   "metadata": {},
   "outputs": [
    {
     "name": "stdout",
     "output_type": "stream",
     "text": [
      "[[0 1 2]\n",
      " [3 4 5]\n",
      " [6 7 8]]\n",
      "----\n",
      "rows:  [ 3 12 21]\n",
      "cols:  [ 9 12 15]\n",
      "total:  36\n"
     ]
    }
   ],
   "source": [
    "# arrayの行方向の合計，列方向の合計，全ての要素の合計を計算\n",
    "import numpy as np\n",
    "a = np.arange(9).reshape( (3,3) )\n",
    "\n",
    "print( a )\n",
    "print( \"----\" )\n",
    "print( \"rows: \", np.sum(a, 1) )\n",
    "print( \"cols: \", np.sum(a, 0) )\n",
    "print( \"total: \", np.sum(a) )"
   ]
  },
  {
   "cell_type": "code",
   "execution_count": 13,
   "metadata": {},
   "outputs": [
    {
     "name": "stdout",
     "output_type": "stream",
     "text": [
      "[[0 1 2]\n",
      " [3 4 5]\n",
      " [6 7 8]]\n",
      "----\n",
      "rows:  [ 1.  4.  7.]\n",
      "cols:  [ 3.  4.  5.]\n",
      "total:  4.0\n"
     ]
    }
   ],
   "source": [
    "# arrayの行方向の平均，列方向の平均，全ての要素の平均を計算\n",
    "import numpy as np\n",
    "a = np.arange(9).reshape( (3,3) )\n",
    "\n",
    "print( a )\n",
    "print( \"----\" )\n",
    "print( \"rows: \", np.mean(a, 1) )\n",
    "print( \"cols: \", np.mean(a, 0) )\n",
    "print( \"total: \", np.mean(a) )"
   ]
  },
  {
   "cell_type": "code",
   "execution_count": 14,
   "metadata": {},
   "outputs": [
    {
     "name": "stdout",
     "output_type": "stream",
     "text": [
      "[[29 30 31]\n",
      " [38 39 40]\n",
      " [47 48 49]\n",
      " [56 57 58]]\n"
     ]
    }
   ],
   "source": [
    "# arrayの一部を取り出し\n",
    "import numpy as np\n",
    "a = np.arange(81).reshape( (9,9) )\n",
    "b = a[3:7,2:5]\n",
    "\n",
    "print( b )"
   ]
  },
  {
   "cell_type": "code",
   "execution_count": 15,
   "metadata": {},
   "outputs": [
    {
     "name": "stdout",
     "output_type": "stream",
     "text": [
      "- sin\n",
      "[[ 0.09983342  0.89120736  0.86320937]\n",
      " [ 0.04158066 -0.81827711 -0.92581468]\n",
      " [-0.1821625   0.72896904  0.96988981]]\n",
      "- cos\n",
      "[[ 0.99500417  0.45359612 -0.5048461 ]\n",
      " [-0.99913515 -0.57482395  0.37797774]\n",
      " [ 0.98326844  0.68454667 -0.24354415]]\n",
      "- log\n",
      "[[-2.30258509  0.09531018  0.74193734]\n",
      " [ 1.13140211  1.41098697  1.62924054]\n",
      " [ 1.80828877  1.96009478  2.09186406]]\n",
      "- exp\n",
      "[[  1.10517092e+00   3.00416602e+00   8.16616991e+00]\n",
      " [  2.21979513e+01   6.03402876e+01   1.64021907e+02]\n",
      " [  4.45857770e+02   1.21196707e+03   3.29446808e+03]]\n"
     ]
    }
   ],
   "source": [
    "# arrayの各要素に対して，sin, con, log, expを一括で計算\n",
    "import numpy as np\n",
    "a = np.arange(9).reshape( (3,3) )+0.1\n",
    "\n",
    "print( \"- sin\" )\n",
    "print( np.sin(a) )\n",
    "print( \"- cos\" )\n",
    "print( np.cos(a) )\n",
    "print( \"- log\" )\n",
    "print( np.log(a) )\n",
    "print( \"- exp\" )\n",
    "print( np.exp(a) )"
   ]
  },
  {
   "cell_type": "code",
   "execution_count": 16,
   "metadata": {},
   "outputs": [
    {
     "name": "stdout",
     "output_type": "stream",
     "text": [
      "['Taro' 'Jiro']\n"
     ]
    }
   ],
   "source": [
    "# 名前のarray[\"Taro\", \"Hanako\", \"Jiro\"]と，テストの点数のarray[95, 80, 90]がある時，\n",
    "# 点数が90点以上の人を抽出\n",
    "import numpy as np\n",
    "\n",
    "names = np.array([\"Taro\", \"Hanako\", \"Jiro\"])\n",
    "points = np.array([95, 80, 90])\n",
    "\n",
    "print( names[ points>=90 ] )"
   ]
  },
  {
   "cell_type": "code",
   "execution_count": 17,
   "metadata": {},
   "outputs": [
    {
     "name": "stdout",
     "output_type": "stream",
     "text": [
      "[2 2 2]\n",
      "[0 1 2]\n"
     ]
    }
   ],
   "source": [
    "# 特定の条件を満たすarrayのインデックスを取得\n",
    "import numpy as np\n",
    "a = np.arange(9).reshape( (3,3) )\n",
    "\n",
    "y, x = np.where( a>5 )\n",
    "\n",
    "print( y )\n",
    "print( x )"
   ]
  },
  {
   "cell_type": "code",
   "execution_count": 18,
   "metadata": {},
   "outputs": [],
   "source": [
    "# 行列をファイルに保存\n",
    "import numpy as np\n",
    "a = np.arange(9).reshape( (3,3) )\n",
    "\n",
    "np.savetxt( \"npdata.txt\", a )\n",
    "\n",
    "# または\n",
    "#np.save( \"npdata.npy\", a )"
   ]
  },
  {
   "cell_type": "markdown",
   "metadata": {},
   "source": [
    "- np.savetxt\n",
    "  - テキストファイルで保存します．\n",
    "  - 値を目で確認することができますが，テキストで表現しきれない情報が欠落したり，ファイルサイズが大きくなります．\n",
    "- np.save\n",
    "  - numpy独自の形式（バイナリ）で保存します．\n",
    "  - 値を目で確認することはできませんが，情報の欠落はなく，ファイルサイズは小さくなります．"
   ]
  },
  {
   "cell_type": "code",
   "execution_count": 19,
   "metadata": {},
   "outputs": [
    {
     "name": "stdout",
     "output_type": "stream",
     "text": [
      "[[ 0.  1.  2.]\n",
      " [ 3.  4.  5.]\n",
      " [ 6.  7.  8.]]\n"
     ]
    }
   ],
   "source": [
    "# ファイルから行列を読み込み\n",
    "import numpy as np\n",
    "\n",
    "a = np.loadtxt( \"npdata.txt\" )\n",
    "\n",
    "# または\n",
    "# a = np.load( \"npdata.npy\" )\n",
    "\n",
    "print( a )"
   ]
  },
  {
   "cell_type": "code",
   "execution_count": null,
   "metadata": {
    "collapsed": true
   },
   "outputs": [],
   "source": []
  }
 ],
 "metadata": {
  "kernelspec": {
   "display_name": "Python 3",
   "language": "python",
   "name": "python3"
  },
  "language_info": {
   "codemirror_mode": {
    "name": "ipython",
    "version": 3
   },
   "file_extension": ".py",
   "mimetype": "text/x-python",
   "name": "python",
   "nbconvert_exporter": "python",
   "pygments_lexer": "ipython3",
   "version": "3.6.2"
  }
 },
 "nbformat": 4,
 "nbformat_minor": 1
}
