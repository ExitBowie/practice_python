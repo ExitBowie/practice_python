{
 "cells": [
  {
   "cell_type": "markdown",
   "metadata": {},
   "source": [
    "# 文字列"
   ]
  },
  {
   "cell_type": "code",
   "execution_count": 1,
   "metadata": {
    "collapsed": false
   },
   "outputs": [
    {
     "name": "stdout",
     "output_type": "stream",
     "text": [
      "abcdef\n"
     ]
    }
   ],
   "source": [
    "# 適当な2つの文字列を連結しないさい\n",
    "a = \"abc\"\n",
    "b = \"def\"\n",
    "c = a + b\n",
    "\n",
    "print c"
   ]
  },
  {
   "cell_type": "code",
   "execution_count": 2,
   "metadata": {
    "collapsed": false
   },
   "outputs": [
    {
     "name": "stdout",
     "output_type": "stream",
     "text": [
      "hello world\n"
     ]
    }
   ],
   "source": [
    "# \"he**o wo*ld\"を\"hello world\"に変換しなさい\n",
    "a = \"he**o wor*d\"\n",
    "b = a.replace(\"*\", \"l\")\n",
    "\n",
    "print b"
   ]
  },
  {
   "cell_type": "code",
   "execution_count": 3,
   "metadata": {
    "collapsed": false
   },
   "outputs": [
    {
     "name": "stdout",
     "output_type": "stream",
     "text": [
      "<type 'str'>\n",
      "<type 'int'>\n"
     ]
    }
   ],
   "source": [
    "# 数値を文字列，文字列を数値に変換しなさい\n",
    "a = str(100)\n",
    "b = int(a)\n",
    "\n",
    "print type(a)\n",
    "print type(b)"
   ]
  },
  {
   "cell_type": "code",
   "execution_count": 4,
   "metadata": {
    "collapsed": false
   },
   "outputs": [
    {
     "name": "stdout",
     "output_type": "stream",
     "text": [
      "hello world\n"
     ]
    }
   ],
   "source": [
    "# \"h*e*l*l*o ****wor**l**d\"を\"hello world\"に変換しなさい\n",
    "a = \"h*e*l*l*o ****wor**l**d\"\n",
    "b = a.replace(\"*\", \"\")\n",
    "\n",
    "print b"
   ]
  },
  {
   "cell_type": "code",
   "execution_count": 5,
   "metadata": {
    "collapsed": false
   },
   "outputs": [
    {
     "name": "stdout",
     "output_type": "stream",
     "text": [
      "['I', 'am', 'Nakatomo']\n"
     ]
    }
   ],
   "source": [
    "# \"I am Nakatomo\"を単語に分けなさい\n",
    "a = \"I am Nakatomo\"\n",
    "b = a.split(\" \")\n",
    "\n",
    "print b"
   ]
  },
  {
   "cell_type": "code",
   "execution_count": 6,
   "metadata": {
    "collapsed": false
   },
   "outputs": [
    {
     "name": "stdout",
     "output_type": "stream",
     "text": [
      "I am Nakatomo\n"
     ]
    }
   ],
   "source": [
    "# リストに入っている文字列をスペース区切りで連結しなさい\n",
    "a = [ \"I\", \"am\", \"Nakatomo\" ]\n",
    "c = \" \".join(a)\n",
    "\n",
    "print c"
   ]
  },
  {
   "cell_type": "code",
   "execution_count": 7,
   "metadata": {
    "collapsed": false
   },
   "outputs": [
    {
     "name": "stdout",
     "output_type": "stream",
     "text": [
      "I,am,Nakatomo\n"
     ]
    }
   ],
   "source": [
    "# リストに入っている文字列をカンマ（\",\"）区切りで連結しなさい\n",
    "a = [ \"I\", \"am\", \"Nakatomo\" ]\n",
    "c = \",\".join(a)\n",
    "\n",
    "print c"
   ]
  },
  {
   "cell_type": "code",
   "execution_count": 8,
   "metadata": {
    "collapsed": false
   },
   "outputs": [
    {
     "name": "stdout",
     "output_type": "stream",
     "text": [
      "hello\n"
     ]
    }
   ],
   "source": [
    "# \"hweolrllod\"から1文字置きに文字を取り出しなさい\n",
    "a = \"hweolrllod\"\n",
    "b = a[::2]\n",
    "\n",
    "print b"
   ]
  },
  {
   "cell_type": "code",
   "execution_count": 9,
   "metadata": {
    "collapsed": false
   },
   "outputs": [
    {
     "name": "stdout",
     "output_type": "stream",
     "text": [
      "hello\n"
     ]
    }
   ],
   "source": [
    "# \"olleh\"を逆順にしなさい\n",
    "a = \"olleh\"\n",
    "b = a[::-1]\n",
    "\n",
    "print b"
   ]
  },
  {
   "cell_type": "code",
   "execution_count": 10,
   "metadata": {
    "collapsed": false
   },
   "outputs": [
    {
     "name": "stdout",
     "output_type": "stream",
     "text": [
      "['No. 000', 'No. 001', 'No. 002', 'No. 003', 'No. 004', 'No. 005', 'No. 006', 'No. 007', 'No. 008', 'No. 009']\n"
     ]
    }
   ],
   "source": [
    "# 3ケタの数値文字列のリスト[\"No. 000\",\"No. 001\", ..., \"No. 010\"]を生成しなさい\n",
    "a = [\"No. %03d\" % i for i in range(10)]\n",
    "\n",
    "print a"
   ]
  },
  {
   "cell_type": "code",
   "execution_count": 11,
   "metadata": {
    "collapsed": false
   },
   "outputs": [
    {
     "name": "stdout",
     "output_type": "stream",
     "text": [
      "['No. 0.000000', 'No. 0.100000', 'No. 0.200000', 'No. 0.300000', 'No. 0.400000', 'No. 0.500000', 'No. 0.600000', 'No. 0.700000', 'No. 0.800000', 'No. 0.900000']\n"
     ]
    }
   ],
   "source": [
    "# 少数の数値文字列のリスト[\"No. 0.00\",\"No. 0.01\", ..., \"No. 01.0\"]を生成しなさい\n",
    "a = [\"No. %f\" % (i/10.0) for i in range(10)]\n",
    "\n",
    "print a"
   ]
  },
  {
   "cell_type": "code",
   "execution_count": null,
   "metadata": {
    "collapsed": true
   },
   "outputs": [],
   "source": []
  }
 ],
 "metadata": {
  "kernelspec": {
   "display_name": "Python 2",
   "language": "python",
   "name": "python2"
  },
  "language_info": {
   "codemirror_mode": {
    "name": "ipython",
    "version": 2
   },
   "file_extension": ".py",
   "mimetype": "text/x-python",
   "name": "python",
   "nbconvert_exporter": "python",
   "pygments_lexer": "ipython2",
   "version": "2.7.12"
  }
 },
 "nbformat": 4,
 "nbformat_minor": 0
}
