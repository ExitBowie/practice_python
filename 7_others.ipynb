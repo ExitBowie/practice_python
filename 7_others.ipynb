{
 "cells": [
  {
   "cell_type": "markdown",
   "metadata": {},
   "source": [
    "# その他"
   ]
  },
  {
   "cell_type": "code",
   "execution_count": 1,
   "metadata": {
    "collapsed": false
   },
   "outputs": [
    {
     "data": {
      "text/plain": [
       "1"
      ]
     },
     "execution_count": 1,
     "metadata": {},
     "output_type": "execute_result"
    }
   ],
   "source": [
    "# 外部プログラムを実行しなさい\n",
    "import os\n",
    "\n",
    "os.system('\"C:/Program Files/Internet Explorer/iexplore.exe\" google.com')"
   ]
  },
  {
   "cell_type": "code",
   "execution_count": null,
   "metadata": {
    "collapsed": true
   },
   "outputs": [],
   "source": [
    "# マルチスレッドで関数を同時に実行しなさい\n",
    "import time\n",
    "import random\n",
    "from multiprocessing import Pool\n",
    "\n",
    "def func( (a, b) ):\n",
    "    t = random.random()\n",
    "    time.sleep(t)\n",
    "    print a, b\n",
    "    return a+b\n",
    "\n",
    "if __name__ == '__main__':\n",
    "    p = Pool()\n",
    "    results = p.map( func, [(1,4), (2,9), (10,100)] )\n",
    "    print results"
   ]
  },
  {
   "cell_type": "code",
   "execution_count": null,
   "metadata": {
    "collapsed": true
   },
   "outputs": [],
   "source": []
  }
 ],
 "metadata": {
  "kernelspec": {
   "display_name": "Python 2",
   "language": "python",
   "name": "python2"
  },
  "language_info": {
   "codemirror_mode": {
    "name": "ipython",
    "version": 2
   },
   "file_extension": ".py",
   "mimetype": "text/x-python",
   "name": "python",
   "nbconvert_exporter": "python",
   "pygments_lexer": "ipython2",
   "version": "2.7.12"
  }
 },
 "nbformat": 4,
 "nbformat_minor": 0
}
