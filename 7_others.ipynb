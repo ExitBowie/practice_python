{
 "cells": [
  {
   "cell_type": "markdown",
   "metadata": {},
   "source": [
    "# その他"
   ]
  },
  {
   "cell_type": "code",
   "execution_count": 1,
   "metadata": {},
   "outputs": [
    {
     "data": {
      "text/plain": [
       "32512"
      ]
     },
     "execution_count": 1,
     "metadata": {},
     "output_type": "execute_result"
    }
   ],
   "source": [
    "# 外部プログラムを実行\n",
    "import os\n",
    "\n",
    "os.system('\"C:/Program Files/Internet Explorer/iexplore.exe\" google.com')"
   ]
  },
  {
   "cell_type": "code",
   "execution_count": 2,
   "metadata": {},
   "outputs": [
    {
     "name": "stdout",
     "output_type": "stream",
     "text": [
      "compute 10 + 100\n",
      "compute 1 + 4\n",
      "compute 2 + 9\n",
      "[5, 11, 110]\n"
     ]
    }
   ],
   "source": [
    "# マルチスレッドで関数を同時に実行\n",
    "import time\n",
    "import random\n",
    "from multiprocessing import Pool\n",
    "\n",
    "def func( args ):\n",
    "    a, b = args\n",
    "    t = random.random()\n",
    "    time.sleep(t)\n",
    "    print( \"compute %d + %d\" % (a, b) )\n",
    "    return a+b\n",
    "\n",
    "if __name__ == '__main__':\n",
    "    p = Pool()\n",
    "    results = p.map( func, [(1,4), (2,9), (10,100)] )\n",
    "    print( results )"
   ]
  },
  {
   "cell_type": "code",
   "execution_count": 3,
   "metadata": {},
   "outputs": [
    {
     "name": "stdout",
     "output_type": "stream",
     "text": [
      "time (python): 1.764070 sec\n",
      "time (jit1): 0.063574 sec\n",
      "time (jit2): 0.006708 sec\n"
     ]
    }
   ],
   "source": [
    "# numbaを使って関数を高速化しなさい\n",
    "from numba import jit\n",
    "import time\n",
    "import numpy as np\n",
    "\n",
    "def calc_sum( arr ):\n",
    "    sum = 0\n",
    "    for i in range(len(arr)):\n",
    "        sum += arr[i]\n",
    "    return sum\n",
    "\n",
    "# nambaによる高速化\n",
    "@jit\n",
    "def calc_sum_jit1( arr ):\n",
    "    sum = 0\n",
    "    for i in range(len(arr)):\n",
    "        sum += arr[i]\n",
    "    return sum\n",
    "\n",
    "# nambaの型指定による高速化\n",
    "@jit('i8(i8[:])')\n",
    "def calc_sum_jit2( arr ):\n",
    "    sum = 0\n",
    "    for i in range(len(arr)):\n",
    "        sum += arr[i]\n",
    "    return sum\n",
    "\n",
    "arr = np.arange(10000000, dtype=np.int64)\n",
    "\n",
    "start = time.clock()\n",
    "sum = calc_sum(arr)\n",
    "print( \"time (python): %lf sec\" %  (time.clock()-start) )\n",
    "\n",
    "start = time.clock()\n",
    "sum = calc_sum_jit1(arr)\n",
    "print( \"time (jit1): %lf sec\" %  (time.clock()-start) )\n",
    "\n",
    "start = time.clock()\n",
    "sum = calc_sum_jit2(arr)\n",
    "print( \"time (jit2): %lf sec\" %  (time.clock()-start) )"
   ]
  },
  {
   "cell_type": "code",
   "execution_count": null,
   "metadata": {
    "collapsed": true
   },
   "outputs": [],
   "source": []
  }
 ],
 "metadata": {
  "kernelspec": {
   "display_name": "Python 3",
   "language": "python",
   "name": "python3"
  },
  "language_info": {
   "codemirror_mode": {
    "name": "ipython",
    "version": 3
   },
   "file_extension": ".py",
   "mimetype": "text/x-python",
   "name": "python",
   "nbconvert_exporter": "python",
   "pygments_lexer": "ipython3",
   "version": "3.6.2"
  }
 },
 "nbformat": 4,
 "nbformat_minor": 1
}
