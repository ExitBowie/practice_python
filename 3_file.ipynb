{
 "cells": [
  {
   "cell_type": "markdown",
   "metadata": {},
   "source": [
    "# ファイル"
   ]
  },
  {
   "cell_type": "code",
   "execution_count": 1,
   "metadata": {
    "collapsed": true
   },
   "outputs": [],
   "source": [
    "# リストの値を改行区切りのファイルに保存しなさい\n",
    "import codecs\n",
    "a = range(10)\n",
    "f = codecs.open(\"test.txt\", \"w\", \"sjis\")\n",
    "\n",
    "for i in a:\n",
    "    f.write( i )\n",
    "    f.write(\"\\n\")\n",
    "    \n",
    "f.close()"
   ]
  },
  {
   "cell_type": "code",
   "execution_count": 2,
   "metadata": {
    "collapsed": false
   },
   "outputs": [
    {
     "name": "stdout",
     "output_type": "stream",
     "text": [
      "0\n",
      "\n",
      "1\n",
      "\n",
      "2\n",
      "\n",
      "3\n",
      "\n",
      "4\n",
      "\n",
      "5\n",
      "\n",
      "6\n",
      "\n",
      "7\n",
      "\n",
      "8\n",
      "\n",
      "9\n",
      "\n"
     ]
    }
   ],
   "source": [
    "# 読み込んだファイルを1行づつ読み込んで表示しなさい\n",
    "import codecs\n",
    "f = codecs.open(\"test.txt\", \"r\", \"sjis\")\n",
    "\n",
    "for line in f.readlines():\n",
    "    print line\n",
    "    \n",
    "f.close()"
   ]
  },
  {
   "cell_type": "code",
   "execution_count": 3,
   "metadata": {
    "collapsed": false
   },
   "outputs": [
    {
     "name": "stdout",
     "output_type": "stream",
     "text": [
      "0\n",
      "1\n",
      "2\n",
      "3\n",
      "4\n",
      "5\n",
      "6\n",
      "7\n",
      "8\n",
      "9\n",
      "\n"
     ]
    }
   ],
   "source": [
    "# 読み込んだファイルを1つの文字列として読み込みなさい\n",
    "# 読み込んだファイルを1行づつ読み込んで表示しなさい\n",
    "import codecs\n",
    "f = codecs.open(\"test.txt\", \"r\", \"sjis\")\n",
    "txt = f.read()    \n",
    "f.close()\n",
    "\n",
    "print txt"
   ]
  },
  {
   "cell_type": "code",
   "execution_count": 4,
   "metadata": {
    "collapsed": false
   },
   "outputs": [
    {
     "name": "stdout",
     "output_type": "stream",
     "text": [
      "[[1, 2, 3], [4], [5, 6, 7], [8, 9], [10, 11, 12]]\n"
     ]
    }
   ],
   "source": [
    "# ファイルに書かれた数値を読み込んで，二次元のリストにしなさい\n",
    "data = []\n",
    "for line in open( \"data.txt\", \"r\" ).readlines():\n",
    "    line = line.strip()\n",
    "    data.append( [ int(i) for i in line.split(\",\") ] )\n",
    "    \n",
    "print data"
   ]
  },
  {
   "cell_type": "markdown",
   "metadata": {},
   "source": [
    "data.txtは[ここ](https://raw.githubusercontent.com/naka-tomo/practice_python/master/data.txt)からダウンロードしてください．\n",
    "(リンクを右クリックで「名前をつけて保存」で保存してください．)"
   ]
  },
  {
   "cell_type": "code",
   "execution_count": null,
   "metadata": {
    "collapsed": true
   },
   "outputs": [],
   "source": []
  }
 ],
 "metadata": {
  "kernelspec": {
   "display_name": "Python 2",
   "language": "python",
   "name": "python2"
  },
  "language_info": {
   "codemirror_mode": {
    "name": "ipython",
    "version": 2
   },
   "file_extension": ".py",
   "mimetype": "text/x-python",
   "name": "python",
   "nbconvert_exporter": "python",
   "pygments_lexer": "ipython2",
   "version": "2.7.12"
  }
 },
 "nbformat": 4,
 "nbformat_minor": 0
}
