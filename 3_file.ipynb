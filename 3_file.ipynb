{
 "cells": [
  {
   "cell_type": "markdown",
   "metadata": {},
   "source": [
    "# ファイル"
   ]
  },
  {
   "cell_type": "code",
   "execution_count": 1,
   "metadata": {
    "collapsed": true
   },
   "outputs": [],
   "source": [
    "# リストの値を改行区切りのファイルに保存しなさい\n",
    "import codecs\n",
    "a = range(10)\n",
    "f = codecs.open(\"test.txt\", \"w\", \"sjis\")\n",
    "\n",
    "for i in a:\n",
    "    f.write( i )\n",
    "    f.write(\"\\n\")\n",
    "    \n",
    "f.close()"
   ]
  },
  {
   "cell_type": "code",
   "execution_count": 2,
   "metadata": {},
   "outputs": [
    {
     "name": "stdout",
     "output_type": "stream",
     "text": [
      "0\n",
      "\n",
      "1\n",
      "\n",
      "2\n",
      "\n",
      "3\n",
      "\n",
      "4\n",
      "\n",
      "5\n",
      "\n",
      "6\n",
      "\n",
      "7\n",
      "\n",
      "8\n",
      "\n",
      "9\n",
      "\n"
     ]
    }
   ],
   "source": [
    "# 読み込んだファイルを1行づつ読み込んで表示しなさい\n",
    "import codecs\n",
    "f = codecs.open(\"test.txt\", \"r\", \"sjis\")\n",
    "\n",
    "for line in f.readlines():\n",
    "    print line\n",
    "    \n",
    "f.close()"
   ]
  },
  {
   "cell_type": "code",
   "execution_count": 3,
   "metadata": {},
   "outputs": [
    {
     "name": "stdout",
     "output_type": "stream",
     "text": [
      "0\n",
      "1\n",
      "2\n",
      "3\n",
      "4\n",
      "5\n",
      "6\n",
      "7\n",
      "8\n",
      "9\n",
      "\n"
     ]
    }
   ],
   "source": [
    "# 読み込んだファイルを1つの文字列として読み込みなさい\n",
    "# 読み込んだファイルを1行づつ読み込んで表示しなさい\n",
    "import codecs\n",
    "f = codecs.open(\"test.txt\", \"r\", \"sjis\")\n",
    "txt = f.read()    \n",
    "f.close()\n",
    "\n",
    "print txt"
   ]
  },
  {
   "cell_type": "code",
   "execution_count": 4,
   "metadata": {},
   "outputs": [
    {
     "name": "stdout",
     "output_type": "stream",
     "text": [
      "[[1, 2, 3], [4], [5, 6, 7], [8, 9], [10, 11, 12]]\n"
     ]
    }
   ],
   "source": [
    "# ファイルに書かれた数値を読み込んで，二次元のリストにしなさい\n",
    "data = []\n",
    "for line in open( \"data.txt\", \"r\" ).readlines():\n",
    "    line = line.strip()\n",
    "    data.append( [ int(i) for i in line.split(\",\") ] )\n",
    "    \n",
    "print data"
   ]
  },
  {
   "cell_type": "markdown",
   "metadata": {},
   "source": [
    "data.txtは[ここ](https://raw.githubusercontent.com/naka-tomo/practice_python/master/data.txt)からダウンロードしてください．\n",
    "(リンクを右クリックで「名前をつけて保存」で保存してください．)"
   ]
  },
  {
   "cell_type": "code",
   "execution_count": 5,
   "metadata": {},
   "outputs": [],
   "source": [
    "# フォルダを作成しなさい\n",
    "import os\n",
    "\n",
    "if not os.path.exists(\"test\"):\n",
    "    os.mkdir( \"test\" )"
   ]
  },
  {
   "cell_type": "code",
   "execution_count": 6,
   "metadata": {},
   "outputs": [],
   "source": [
    "# testフォルダ内に１０個のテキストファイルを作りなさい（このファイルはこれ以降のプログラムで利用します．）\n",
    "import os\n",
    "import codecs\n",
    "\n",
    "if not os.path.exists(\"test\"):\n",
    "    os.mkdir( \"test\" )\n",
    "    \n",
    "for i in range(10):\n",
    "    f = codecs.open( \"test/%03d.txt\" % i, \"w\" )\n",
    "    f.write( str(i) )\n",
    "    f.close()"
   ]
  },
  {
   "cell_type": "code",
   "execution_count": 7,
   "metadata": {},
   "outputs": [
    {
     "name": "stdout",
     "output_type": "stream",
     "text": [
      "['test/000.txt', 'test/001.txt', 'test/002.txt', 'test/003.txt', 'test/004.txt', 'test/005.txt', 'test/006.txt', 'test/007.txt', 'test/008.txt', 'test/009.txt']\n"
     ]
    }
   ],
   "source": [
    "# フォルダ内にあるテキストファイルのリストを作成しなさい\n",
    "import glob\n",
    "\n",
    "# txtファイルを検索\n",
    "files = glob.glob( \"test/*.txt\" )\n",
    "print files"
   ]
  },
  {
   "cell_type": "code",
   "execution_count": 8,
   "metadata": {
    "collapsed": true
   },
   "outputs": [],
   "source": [
    "# ファイルをコピーしなさい\n",
    "import shutil\n",
    "\n",
    "shutil.copy( \"test/005.txt\", \"copy.txt\" )"
   ]
  },
  {
   "cell_type": "code",
   "execution_count": 9,
   "metadata": {
    "collapsed": true
   },
   "outputs": [],
   "source": [
    "# フォルダをコピーしなさい\n",
    "import shutil\n",
    "\n",
    "shutil.copytree( \"test\", \"test_copy\" )"
   ]
  }
 ],
 "metadata": {
  "kernelspec": {
   "display_name": "Python 2",
   "language": "python",
   "name": "python2"
  },
  "language_info": {
   "codemirror_mode": {
    "name": "ipython",
    "version": 2
   },
   "file_extension": ".py",
   "mimetype": "text/x-python",
   "name": "python",
   "nbconvert_exporter": "python",
   "pygments_lexer": "ipython2",
   "version": "2.7.13"
  }
 },
 "nbformat": 4,
 "nbformat_minor": 1
}
